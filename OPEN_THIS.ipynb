{
 "cells": [
  {
   "cell_type": "code",
   "execution_count": null,
   "id": "21711773-4376-4ed1-810f-234200aa590b",
   "metadata": {},
   "outputs": [],
   "source": [
    "##############################\n",
    "##############################\n",
    "\n",
    "hugging_face_token = 'xxxxxx' #!!!!!!!\n",
    "ngrok_token = 'xxxxxx' #!!!!!!!\n",
    "\n",
    "##############################\n",
    "##############################\n",
    "from sdshop import run_server\n",
    "##############################\n",
    "run_server(hugging_face_token, ngrok_token)"
   ]
  }
 ],
 "metadata": {
  "kernelspec": {
   "display_name": "Python 3 (ipykernel)",
   "language": "python",
   "name": "python3"
  },
  "language_info": {
   "codemirror_mode": {
    "name": "ipython",
    "version": 3
   },
   "file_extension": ".py",
   "mimetype": "text/x-python",
   "name": "python",
   "nbconvert_exporter": "python",
   "pygments_lexer": "ipython3",
   "version": "3.7.13"
  }
 },
 "nbformat": 4,
 "nbformat_minor": 5
}
