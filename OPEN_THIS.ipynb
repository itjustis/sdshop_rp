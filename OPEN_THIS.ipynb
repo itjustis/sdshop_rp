{
 "cells": [
  {
   "cell_type": "code",
   "execution_count": null,
   "id": "fa9bb538-9239-44be-a89e-e82777c3097e",
   "metadata": {},
   "outputs": [],
   "source": [
    "# 1) register on Huggin Face https://huggingface.co/\n",
    "\n",
    "# 2) agree to SD license on Huggin Face https://huggingface.co/CompVis/stable-diffusion-v-1-4-original\n",
    "\n",
    "# 3) create access token https://huggingface.co/settings/tokens\n",
    "\n",
    "# 4) copy it and paste in the cell below\n",
    "\n",
    "# 5) get ngrok token here https://ngrok.com/ and paste below. without it session is limited to 2 hours\n",
    "\n"
   ]
  },
  {
   "cell_type": "code",
   "execution_count": null,
   "id": "21711773-4376-4ed1-810f-234200aa590b",
   "metadata": {},
   "outputs": [],
   "source": [
    "##############################\n",
    "##############################\n",
    "\n",
    "hugging_face_token = 'xxxxxx' #!!!!!!!\n",
    "ngrok_token = 'xxxxxx' #!!!!!!!\n",
    "\n",
    "##############################\n",
    "##############################\n",
    "from sdshop import run_server\n",
    "##############################\n",
    "run_server(hugging_face_token, ngrok_token)"
   ]
  }
 ],
 "metadata": {
  "kernelspec": {
   "display_name": "Python 3 (ipykernel)",
   "language": "python",
   "name": "python3"
  },
  "language_info": {
   "codemirror_mode": {
    "name": "ipython",
    "version": 3
   },
   "file_extension": ".py",
   "mimetype": "text/x-python",
   "name": "python",
   "nbconvert_exporter": "python",
   "pygments_lexer": "ipython3",
   "version": "3.7.13"
  }
 },
 "nbformat": 4,
 "nbformat_minor": 5
}
