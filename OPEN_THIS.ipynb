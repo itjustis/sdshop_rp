{
 "cells": [
  {
   "cell_type": "code",
   "execution_count": 1,
   "id": "21711773-4376-4ed1-810f-234200aa590b",
   "metadata": {},
   "outputs": [
    {
     "name": "stdout",
     "output_type": "stream",
     "text": [
      "COPY & PASTE NGROK URL  ( \"running on...\" ) TO PHOTOSHOP PLUGIN API FIELD\n",
      " * Serving Flask app 'sdshop2'\n",
      " * Debug mode: off\n"
     ]
    },
    {
     "name": "stderr",
     "output_type": "stream",
     "text": [
      "WARNING: This is a development server. Do not use it in a production deployment. Use a production WSGI server instead.\n",
      " * Running on http://127.0.0.1:5000\n",
      "Press CTRL+C to quit\n"
     ]
    },
    {
     "name": "stdout",
     "output_type": "stream",
     "text": [
      " * Running on http://966c-72-88-161-194.ngrok.io\n",
      " * Traffic stats available on http://127.0.0.1:4040\n"
     ]
    },
    {
     "name": "stderr",
     "output_type": "stream",
     "text": [
      "Global seed set to 2315873666\n",
      "Global seed set to 2315873666\n"
     ]
    },
    {
     "name": "stdout",
     "output_type": "stream",
     "text": [
      "euler\n"
     ]
    },
    {
     "name": "stderr",
     "output_type": "stream",
     "text": [
      "100%|██████████| 30/30 [00:06<00:00,  4.37it/s]\n",
      "127.0.0.1 - - [04/Oct/2022 17:05:14] \"POST /api/txt2img HTTP/1.1\" 200 -\n"
     ]
    }
   ],
   "source": [
    "##############################\n",
    "##############################\n",
    "\n",
    "hugging_face_token = 'xxxxxx' \n",
    "ngrok_token = 'xxxxxx'\n",
    "\n",
    "##############################\n",
    "##############################\n",
    "from sdshop import run_server\n",
    "##############################\n",
    "run_server(hugging_face_token, ngrok_token)"
   ]
  }
 ],
 "metadata": {
  "kernelspec": {
   "display_name": "Python 3 (ipykernel)",
   "language": "python",
   "name": "python3"
  },
  "language_info": {
   "codemirror_mode": {
    "name": "ipython",
    "version": 3
   },
   "file_extension": ".py",
   "mimetype": "text/x-python",
   "name": "python",
   "nbconvert_exporter": "python",
   "pygments_lexer": "ipython3",
   "version": "3.7.13"
  }
 },
 "nbformat": 4,
 "nbformat_minor": 5
}
